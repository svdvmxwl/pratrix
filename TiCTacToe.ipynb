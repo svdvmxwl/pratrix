from Ipython.display import clear_output
ans2 ='y'
while(ans2 == 'y'):
    ## initial declarations
    ll= [[0 for r in range(0,3)] for q in range(0,3)]
    d1={1:' ',2:' ',3:' '}
    d2={1:' ',2:' ',3:' '}
    d3={1:' ',2:' ',3:' '}
    ## dictionary to use for the board
    d={1:d1,2:d2,3:d3}

    ans = 'y'
    count = 0

    def printboard(): ##prints the Gameboard
        clear_output()
        for i in (1,2,3):
            print([d[i][j] for j in (1,2,3)] )
        
    def mark(a,b):   ##marks the position of choice
        if count%2 == 0:
            d[a][b] = 'x'
        else:
            d[a][b] = 'o'

    def chkflg(a,b):  ##checks whether the position is occupied
        return ll[a][b] == 0

    def gmchk(d):  ##Checks the Game Status
        fl = [0 for i in range(0,8)]
        id = 0
        if d[1][1] == d[2][2] == d[3][3]:
            fl[6] += 1
        elif d[3][1] == d[2][2] == d[1][3]:
            fl[7] += 1
        else:
            for i in (1,2,3):
                if d[i][1] == d[i][2] == d[i][3]:
                    fl[i-1] += 1
                elif d[1][i] == d[2][i] == d[3][i]:
                    fl[2+i] += 1
        for i in (0,1,2):
            if fl[i] == 1:
                if d[i+1][1] == 'x':
                    id +=1
                    return 0
                elif d[i+1][1] == 'o':
                    id +=1
                    return 1
            elif fl[3+i] == 1:
                if d[1][1+i] == 'x':
                    id +=1
                    return 0
                elif d[1][1+i] == 'o':
                    id +=1
                    return 1
        for i in range(6,8):
            if fl[i] == 1:
                if d[2][2] == 'x':
                    id +=1
                    return 0
                elif d[2][2] == 'o':
                    id +=1
                    return 1
        if id == 0:
            if ' ' in set([d[i][j] for j in (1,2,3) for i in (1,2,3)]):
                return 2
            else:
                return 3

    while(ans == 'y'):
        if count%2 == 0:
            print('Please input player1: X')
        else:
            print('Please input player2: O')

        print('give your place co-ordinates x and then y ')
        a=int(input())
        b=int(input())
        if a in range(1,4) and b in range(1,4):
            if chkflg(a-1,b-1) == True:
                mark(a,b)
                count += 1
                ll[a-1][b-1] += 1
                printboard()
                game = gmchk(d)
                if game == 0:
                    print('Player1 Won. Do you want to play again?[y/n]')
                    ans2= input()
                    break
                elif game == 1:
                    print('Player2 Won. Do you want to play again?[y/n]')
                    ans2= input()
                    break
                elif game == 3:
                    print('CatGame:Draw. Do you want to play again?[y/n]')
                    ans2= input()
                    break
                else:
                    print('Please Continue. next player turn.')
                    print('Do you wish to continue? y/n')
                    ans = input()
                    if ans != 'y':
                        print('Game Cancelled. Do you want to play again?[y/n]')
                        ans2= input()
                    
            else:
                print('Already filled, Please Try again')

        else:
            print('Please enter valid X and y:')
else:
    print("Thanks for tryiing it out!!")
